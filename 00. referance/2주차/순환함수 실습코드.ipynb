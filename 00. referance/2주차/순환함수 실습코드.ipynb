{
 "cells": [
  {
   "cell_type": "code",
   "execution_count": null,
   "id": "eb07e2c7",
   "metadata": {},
   "outputs": [],
   "source": [
    "#### 거듭제곱 계산"
   ]
  },
  {
   "cell_type": "code",
   "execution_count": 11,
   "id": "43c654cf",
   "metadata": {},
   "outputs": [
    {
     "ename": "SyntaxError",
     "evalue": "invalid syntax (1342569691.py, line 2)",
     "output_type": "error",
     "traceback": [
      "\u001b[1;36m  Cell \u001b[1;32mIn[11], line 2\u001b[1;36m\u001b[0m\n\u001b[1;33m    return = 1\u001b[0m\n\u001b[1;37m           ^\u001b[0m\n\u001b[1;31mSyntaxError\u001b[0m\u001b[1;31m:\u001b[0m invalid syntax\n"
     ]
    }
   ],
   "source": [
    "def power_tree(x,n):\n",
    "    return = 1\n",
    "    \n",
    "    for i in range(n):\n",
    "        result = result * x\n",
    "    return result\n",
    "\n",
    "#반복구조`\n"
   ]
  },
  {
   "cell_type": "code",
   "execution_count": 13,
   "id": "cb117b2b",
   "metadata": {},
   "outputs": [
    {
     "data": {
      "text/plain": [
       "1.2"
      ]
     },
     "execution_count": 13,
     "metadata": {},
     "output_type": "execute_result"
    }
   ],
   "source": [
    "6/5 # /: 몫, "
   ]
  },
  {
   "cell_type": "code",
   "execution_count": 19,
   "id": "234d1854",
   "metadata": {},
   "outputs": [
    {
     "data": {
      "text/plain": [
       "1000"
      ]
     },
     "execution_count": 19,
     "metadata": {},
     "output_type": "execute_result"
    }
   ],
   "source": [
    "def power(x,n):\n",
    "    if n ==0:\n",
    "        return 1\n",
    "    elif (n%2) ==0: #짝수일 때, n이 1일 때\n",
    "        return power(x*x, n//2) #\n",
    "    else:                   #홀수일 때\n",
    "        return x*power(x*x, (n-1)//2) \n",
    "    \n",
    "power(10,3)"
   ]
  },
  {
   "cell_type": "code",
   "execution_count": 36,
   "id": "57076d68",
   "metadata": {},
   "outputs": [
    {
     "data": {
      "text/plain": [
       "2"
      ]
     },
     "execution_count": 36,
     "metadata": {},
     "output_type": "execute_result"
    }
   ],
   "source": [
    "def fib(n):\n",
    "    if n ==0:\n",
    "        return 0\n",
    "    elif n ==1:\n",
    "        return 1\n",
    "    else:\n",
    "        return fib(n-1) +fib(n-2)\n",
    "    \n",
    "    \n",
    "#순환구조로 구현된 피보나치 수열"
   ]
  },
  {
   "cell_type": "code",
   "execution_count": 38,
   "id": "32b88aab",
   "metadata": {},
   "outputs": [
    {
     "data": {
      "text/plain": [
       "2"
      ]
     },
     "execution_count": 38,
     "metadata": {},
     "output_type": "execute_result"
    }
   ],
   "source": [
    "def fib_iter(n):\n",
    "    if (n<2):\n",
    "        return n\n",
    "    \n",
    "    last = 0\n",
    "    current = 1\n",
    "    for i in range(2,n+1):\n",
    "        tmp = current\n",
    "        current += last\n",
    "        last = tmp\n",
    "    return current\n",
    "fib_iter(3)\n",
    "#반복구조로 구현된 "
   ]
  },
  {
   "cell_type": "code",
   "execution_count": 42,
   "id": "419f4594",
   "metadata": {},
   "outputs": [
    {
     "name": "stdout",
     "output_type": "stream",
     "text": [
      "원판 1: A --> B\n",
      "원판 2: A --> C\n",
      "원판 1: B --> C\n",
      "원판 3: A --> B\n",
      "원판 1: C --> A\n",
      "원판 2: C --> B\n",
      "원판 1: A --> B\n",
      "원판 4: A --> C\n",
      "원판 1: B --> C\n",
      "원판 2: B --> A\n",
      "원판 1: C --> A\n",
      "원판 3: B --> C\n",
      "원판 1: A --> B\n",
      "원판 2: A --> C\n",
      "원판 1: B --> C\n"
     ]
    }
   ],
   "source": [
    "def hanoi_tower(n,fr,tmp,to):\n",
    "    \n",
    "    if(n==1):\n",
    "        print(\"원판 1: %s --> %s\" % (fr,to))\n",
    "    else:\n",
    "        hanoi_tower(n-1,fr,to,tmp)             #n-1개를 C를 이용해 B로\n",
    "        print(\"원판 %d: %s --> %s\" % (n,fr,to)) #하나의 원판 옮김\n",
    "        hanoi_tower(n-1,tmp,fr,to)             #n-1개를 A를 이용해 C로\n",
    "              \n",
    "hanoi_tower(4,'A','B','C')"
   ]
  },
  {
   "cell_type": "code",
   "execution_count": null,
   "id": "4146749c",
   "metadata": {},
   "outputs": [],
   "source": []
  }
 ],
 "metadata": {
  "kernelspec": {
   "display_name": "Python 3 (ipykernel)",
   "language": "python",
   "name": "python3"
  },
  "language_info": {
   "codemirror_mode": {
    "name": "ipython",
    "version": 3
   },
   "file_extension": ".py",
   "mimetype": "text/x-python",
   "name": "python",
   "nbconvert_exporter": "python",
   "pygments_lexer": "ipython3",
   "version": "3.8.5"
  }
 },
 "nbformat": 4,
 "nbformat_minor": 5
}
