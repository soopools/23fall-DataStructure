{
 "cells": [
  {
   "cell_type": "code",
   "execution_count": null,
   "id": "4845806c",
   "metadata": {},
   "outputs": [],
   "source": [
    "def checkBrackets(statement):\n",
    "    stack = []\n",
    "    size =0\n",
    "    \n",
    "    for ch in statement: #미리 괄호 크기 구한다\n",
    "        if ch in('{','[','(',')',']','}'):\n",
    "            size += 1\n",
    "            \n",
    "    for ch in statement:\n",
    "        if ch in ('{',)\n",
    "        "
   ]
  }
 ],
 "metadata": {
  "kernelspec": {
   "display_name": "Python 3 (ipykernel)",
   "language": "python",
   "name": "python3"
  },
  "language_info": {
   "codemirror_mode": {
    "name": "ipython",
    "version": 3
   },
   "file_extension": ".py",
   "mimetype": "text/x-python",
   "name": "python",
   "nbconvert_exporter": "python",
   "pygments_lexer": "ipython3",
   "version": "3.8.5"
  }
 },
 "nbformat": 4,
 "nbformat_minor": 5
}
