{
 "cells": [
  {
   "cell_type": "code",
   "execution_count": 31,
   "id": "6085e594",
   "metadata": {},
   "outputs": [
    {
     "name": "stdout",
     "output_type": "stream",
     "text": [
      "Wrong_9\n"
     ]
    }
   ],
   "source": [
    "class Stack():\n",
    "    def __init__(self):\n",
    "        self.top = []\n",
    "\n",
    "    def isEmpty(self): return len(self.top) == 0\n",
    "    def size(self): return len(self.top)\n",
    "    def clear(self):self.top = []\n",
    "\n",
    "    def push(self,item):\n",
    "        self.top.append(item)\n",
    "\n",
    "    def pop(self):\n",
    "        if not self.isEmpty():\n",
    "            return self.top.pop(-1)\n",
    "        \n",
    "    def peek(self):\n",
    "        if not self.isEmpty():\n",
    "            return self.top[-1]\n",
    "\n",
    "def checkBrackets(statement):\n",
    "    stack = Stack()\n",
    "    \n",
    "    for ch in statement:\n",
    "        if ch in('{','[','('):\n",
    "            stack.push(ch)\n",
    "        elif ch in ('}',']',')'):\n",
    "            if stack.isEmpty():\n",
    "                return False\n",
    "            else:\n",
    "                left = stack.pop()\n",
    "                if  (ch == '}' and left !='{') or \\\n",
    "                    (ch == ']' and left !='[') or \\\n",
    "                    (ch == ')' and left !='(') :\n",
    "                    return False\n",
    "    return stack.isEmpty()\n",
    "str = (\"301*{4+(2101-7)/1} + 9*{4-2* (10108-7)})\")\n",
    "num = 0 \n",
    "for s in str:\n",
    "    m = checkBrackets(s)\n",
    "    if checkBrackets(s) == False:\n",
    "        num += 1\n",
    "if m == True:\n",
    "    print(f'OK_{num}')\n",
    "elif m == False:\n",
    "    print(f'Wrong_{num}')"
   ]
  }
 ],
 "metadata": {
  "kernelspec": {
   "display_name": "Python 3 (ipykernel)",
   "language": "python",
   "name": "python3"
  },
  "language_info": {
   "codemirror_mode": {
    "name": "ipython",
    "version": 3
   },
   "file_extension": ".py",
   "mimetype": "text/x-python",
   "name": "python",
   "nbconvert_exporter": "python",
   "pygments_lexer": "ipython3",
   "version": "3.8.5"
  }
 },
 "nbformat": 4,
 "nbformat_minor": 5
}
