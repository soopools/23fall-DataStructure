{
 "cells": [
  {
   "cell_type": "code",
   "execution_count": 1,
   "id": "6a51fddc",
   "metadata": {},
   "outputs": [],
   "source": [
    "class MaxHeap:\n",
    "    def __init__(self):\n",
    "        self.heap = []\n",
    "        self.heap.append(0)\n",
    "    \n",
    "    def size(self): return len(self.heap) -1\n",
    "    def isEmpty(self): return self.size() == 0\n",
    "    def Parent(self,i): return self.heap[i//2]\n",
    "    def Left(self,i): return self.heap[i*2]\n",
    "    def Right(self,i): return self.heap[i*2+1]\n",
    "    def isplay(self,msg = '힙 트리: '):\n",
    "        print(msg,self.heap[1:])\n",
    "    def insert(self,n):\n",
    "        self.heap.append(n)\n",
    "        i = self.size()\n",
    "        while (i != 1 and n > self.Parent(i)):\n",
    "            self.heap[i] = self.Parent(i)\n",
    "            i = i//2\n",
    "        self.heap[i] = n \n",
    "\n",
    "    def delete(self):\n",
    "        parent = 1\n",
    "        child = 2\n",
    "        if not self.isEmpty():\n",
    "            hroot = self.hap[1]\n",
    "            last = self.heap[self.size()]\n",
    "            while (child <= self.size()):\n",
    "                if child < self.size() and self.Left(parent) < self.Right(parent):\n",
    "                    child += 1\n",
    "                if last >= self.heap[child]:\n",
    "                    break\n",
    "                self.heap[parent] = self.heap[child]\n",
    "                parent = child\n",
    "                child *= 2\n",
    "            \n",
    "            self.heap[parent] = last\n",
    "            self.heap.pop(-1)\n",
    "            return hroot\n",
    "            \n"
   ]
  },
  {
   "cell_type": "code",
   "execution_count": null,
   "id": "639c7607",
   "metadata": {},
   "outputs": [],
   "source": []
  },
  {
   "cell_type": "code",
   "execution_count": null,
   "id": "a174b84e",
   "metadata": {},
   "outputs": [],
   "source": []
  },
  {
   "cell_type": "code",
   "execution_count": null,
   "id": "59028d26",
   "metadata": {},
   "outputs": [],
   "source": []
  }
 ],
 "metadata": {
  "kernelspec": {
   "display_name": "Python 3 (ipykernel)",
   "language": "python",
   "name": "python3"
  },
  "language_info": {
   "codemirror_mode": {
    "name": "ipython",
    "version": 3
   },
   "file_extension": ".py",
   "mimetype": "text/x-python",
   "name": "python",
   "nbconvert_exporter": "python",
   "pygments_lexer": "ipython3",
   "version": "3.8.5"
  }
 },
 "nbformat": 4,
 "nbformat_minor": 5
}
