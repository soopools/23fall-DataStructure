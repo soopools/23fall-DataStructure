{
 "cells": [
  {
   "cell_type": "code",
   "execution_count": 1,
   "metadata": {},
   "outputs": [
    {
     "name": "stdout",
     "output_type": "stream",
     "text": [
      "True\n"
     ]
    }
   ],
   "source": [
    "L1 = [1, 2, 3]\n",
    "L2 = [1, 2, 3]\n",
    "\n",
    "print (L1 == L2)"
   ]
  },
  {
   "cell_type": "code",
   "execution_count": 5,
   "metadata": {},
   "outputs": [
    {
     "name": "stdout",
     "output_type": "stream",
     "text": [
      "False\n"
     ]
    }
   ],
   "source": [
    "L1 = [1, 2, 3, 4]\n",
    "L2 = [1, 2, 3]\n",
    "\n",
    "print (L1 == L2)"
   ]
  },
  {
   "cell_type": "code",
   "execution_count": 7,
   "metadata": {},
   "outputs": [
    {
     "name": "stdout",
     "output_type": "stream",
     "text": [
      "True\n",
      "False\n"
     ]
    }
   ],
   "source": [
    "L1 = [1, 2, 3]\n",
    "L2 = [1, 2, 3]\n",
    "\n",
    "print (L1 == L2) # 객체 내용이 상동한지\n",
    "print (L1 is L2) # 객체 주소가 상동한지"
   ]
  },
  {
   "cell_type": "code",
   "execution_count": 8,
   "metadata": {},
   "outputs": [
    {
     "name": "stdout",
     "output_type": "stream",
     "text": [
      "True\n",
      "False\n",
      "True\n"
     ]
    }
   ],
   "source": [
    "L1 = [1, 2, 3]\n",
    "L2 = [1, 2, 3]\n",
    "L3 = L1\n",
    "\n",
    "print (L1 == L2) # 객체 내용이 상동한지\n",
    "print (L1 is L2) # 객체 주소가 상동한지\n",
    "print (L1 is L3) # 객체 주소가 상동한지"
   ]
  },
  {
   "cell_type": "code",
   "execution_count": 10,
   "metadata": {},
   "outputs": [
    {
     "name": "stdout",
     "output_type": "stream",
     "text": [
      "True\n",
      "False\n"
     ]
    }
   ],
   "source": [
    "L1 = [1, 2, 3]\n",
    "L2 = [1, 2, 3]\n",
    "L3 = L1\n",
    "\n",
    "print (L3 == L2) # 객체 내용이 상동한지\n",
    "print (L3 is L2) # 객체 주소가 상동한지"
   ]
  },
  {
   "cell_type": "code",
   "execution_count": 12,
   "metadata": {},
   "outputs": [
    {
     "name": "stdout",
     "output_type": "stream",
     "text": [
      "0\n",
      "1\n",
      "2\n",
      "3\n",
      "4\n"
     ]
    }
   ],
   "source": [
    "for i in range(5):\n",
    "    print (i)"
   ]
  },
  {
   "cell_type": "code",
   "execution_count": 15,
   "metadata": {},
   "outputs": [
    {
     "name": "stdout",
     "output_type": "stream",
     "text": [
      "0 1 2 3 4 "
     ]
    }
   ],
   "source": [
    "for i in range(5):\n",
    "    # print (i, end = '\\n') # default value: 엔터\n",
    "    print (i, end = ' ')"
   ]
  },
  {
   "cell_type": "code",
   "execution_count": 17,
   "metadata": {},
   "outputs": [
    {
     "name": "stdout",
     "output_type": "stream",
     "text": [
      "hello 졍 !\n"
     ]
    }
   ],
   "source": [
    "name = input(\"Input your name: \")\n",
    "print (\"hello \" + name + ' !')"
   ]
  },
  {
   "cell_type": "code",
   "execution_count": 19,
   "metadata": {},
   "outputs": [
    {
     "ename": "SyntaxError",
     "evalue": "EOL while scanning string literal (2896678237.py, line 2)",
     "output_type": "error",
     "traceback": [
      "\u001b[0;36m  Cell \u001b[0;32mIn[19], line 2\u001b[0;36m\u001b[0m\n\u001b[0;31m    print (\"hello \"\" + name + ' !')\u001b[0m\n\u001b[0m                                   ^\u001b[0m\n\u001b[0;31mSyntaxError\u001b[0m\u001b[0;31m:\u001b[0m EOL while scanning string literal\n"
     ]
    }
   ],
   "source": [
    "name = input(\"Input your name: \")\n",
    "print (\"hello \"\" + name + ' !')\n",
    "       \n",
    "# 파이썬 인터프리터는 쌍따옴표를 봤을 때 문자가 아니라 문자열 시작 여부만 알아챔"
   ]
  },
  {
   "cell_type": "code",
   "execution_count": 20,
   "metadata": {},
   "outputs": [
    {
     "name": "stdout",
     "output_type": "stream",
     "text": [
      "hello \"졍\" !\n"
     ]
    }
   ],
   "source": [
    "name = input(\"Input your name: \")\n",
    "print (\"hello \\\"\" + name + '\\\" !')"
   ]
  },
  {
   "cell_type": "code",
   "execution_count": 28,
   "metadata": {},
   "outputs": [
    {
     "name": "stdout",
     "output_type": "stream",
     "text": [
      "Odd\n"
     ]
    }
   ],
   "source": [
    "value = int( input(\"Input a digit: \") )\n",
    "\n",
    "if (value %2 == 0): # 함수의 시작, 클래스의 시작 등 블락이 필요한 구문의 경우 {}가 아니라 : 콜론 이용 !\n",
    "    print (\"Even\")\n",
    "\n",
    "else:\n",
    "    print (\"Odd\")"
   ]
  },
  {
   "cell_type": "code",
   "execution_count": 29,
   "metadata": {},
   "outputs": [
    {
     "name": "stdout",
     "output_type": "stream",
     "text": [
      "12 33 26 52 26 99 "
     ]
    }
   ],
   "source": [
    "A = [12, 33, 26, 52, 26, 99]\n",
    "\n",
    "for e in A:\n",
    "    print (e, end= ' ')"
   ]
  },
  {
   "cell_type": "code",
   "execution_count": 35,
   "metadata": {},
   "outputs": [
    {
     "name": "stdout",
     "output_type": "stream",
     "text": [
      "12 33 26 52 26 99 \n",
      "H e l l o   W o r l d "
     ]
    }
   ],
   "source": [
    "A = [12, 33, 26, 52, 26, 99]\n",
    "S = 'Hello World'\n",
    "\n",
    "for e in A:\n",
    "    print (e, end= \" \")\n",
    "\n",
    "print()\n",
    "\n",
    "for c in S:\n",
    "    print (c, end = ' ')"
   ]
  },
  {
   "cell_type": "code",
   "execution_count": 36,
   "metadata": {},
   "outputs": [
    {
     "name": "stdout",
     "output_type": "stream",
     "text": [
      "12 33 26 52 26 99 \n",
      "12 , 99\n",
      "H e l l o   W o r l d "
     ]
    }
   ],
   "source": [
    "A = [12, 33, 26, 52, 26, 99]\n",
    "S = 'Hello World'\n",
    "\n",
    "for e in A:\n",
    "    print (e, end= \" \")\n",
    "\n",
    "print()\n",
    "print(A[0], ',', A[-1])\n",
    "\n",
    "for c in S:\n",
    "    print (c, end = ' ')"
   ]
  },
  {
   "cell_type": "code",
   "execution_count": 39,
   "metadata": {},
   "outputs": [
    {
     "name": "stdout",
     "output_type": "stream",
     "text": [
      "12 33 26 52 26 99 \n",
      "H , d\n",
      "H e l l o   W o r l d "
     ]
    }
   ],
   "source": [
    "A = [12, 33, 26, 52, 26, 99]\n",
    "S = 'Hello World'\n",
    "\n",
    "for e in A:\n",
    "    print (e, end= \" \")\n",
    "\n",
    "print()\n",
    "print(S[0], ',', S[-1]) # 배열 S의 첫 글자와 마지막 글장\n",
    "\n",
    "for c in S:\n",
    "    print (c, end = ' ')"
   ]
  },
  {
   "cell_type": "code",
   "execution_count": 44,
   "metadata": {},
   "outputs": [
    {
     "name": "stdout",
     "output_type": "stream",
     "text": [
      "33 99 12 52 26 "
     ]
    }
   ],
   "source": [
    "A = set([12, 33, 26, 52, 26, 99]) # set: list 를 집합으로 만들어주는 함수\n",
    "\n",
    "for e in A:\n",
    "    print (e, end = ' ')\n",
    "\n",
    "# list를 set으로 만들 때 순서의 변화는 예상할 수 없음 (집합이라)\n",
    "# result 01: 33 99 12 52 26\n",
    "\n",
    "# 중복을 허용하지 않는 무작위 리스트 만들기\n",
    "  # 난수를 발생시켜 리스트를 만듦, 집합으로 만듦 (순서 어떻게 될지 모름) > 중복값 없어짐, shuffle 함수 이용하여 무작위로 섞기 가능"
   ]
  },
  {
   "cell_type": "code",
   "execution_count": 45,
   "metadata": {},
   "outputs": [
    {
     "name": "stdout",
     "output_type": "stream",
     "text": [
      "1 2 3 4 "
     ]
    }
   ],
   "source": [
    "A = {1:12, 2:33, 3:26, 4:52} # key 또는 값이 뭐가 나올까\n",
    "# 위를 딕셔너리라고 함 1:12 가 한 묶음 !\n",
    "# 쉽게 문제풀이 가능\n",
    "\n",
    "for e in A:\n",
    "    print (e, end=' ')"
   ]
  },
  {
   "cell_type": "code",
   "execution_count": 49,
   "metadata": {},
   "outputs": [
    {
     "name": "stdout",
     "output_type": "stream",
     "text": [
      "1: hi\n",
      "2: apple\n",
      "3: me\n",
      "4: you\n"
     ]
    }
   ],
   "source": [
    "A = {1:'hi', 2:'apple', 3:'me', 4:'you'}\n",
    "# 사전으로 치면 1: 단어, 뒤에 나오는 게 뜻\n",
    "\n",
    "for e in A:\n",
    "    print (e, end=': ') # approach to key\n",
    "    print (A[e]) # approach to value of key"
   ]
  },
  {
   "cell_type": "code",
   "execution_count": 59,
   "metadata": {},
   "outputs": [
    {
     "name": "stdout",
     "output_type": "stream",
     "text": [
      "2 * 1 = 2  3 * 1 = 3  4 * 1 = 4  5 * 1 = 5  6 * 1 = 6  \n",
      "2 * 2 = 4  3 * 2 = 6  4 * 2 = 8  5 * 2 = 10  6 * 2 = 12  \n",
      "2 * 3 = 6  3 * 3 = 9  4 * 3 = 12  5 * 3 = 15  6 * 3 = 18  \n",
      "2 * 4 = 8  3 * 4 = 12  4 * 4 = 16  5 * 4 = 20  6 * 4 = 24  \n",
      "2 * 5 = 10  3 * 5 = 15  4 * 5 = 20  5 * 5 = 25  6 * 5 = 30  \n",
      "2 * 6 = 12  3 * 6 = 18  4 * 6 = 24  5 * 6 = 30  6 * 6 = 36  \n",
      "2 * 7 = 14  3 * 7 = 21  4 * 7 = 28  5 * 7 = 35  6 * 7 = 42  \n",
      "2 * 8 = 16  3 * 8 = 24  4 * 8 = 32  5 * 8 = 40  6 * 8 = 48  \n",
      "2 * 9 = 18  3 * 9 = 27  4 * 9 = 36  5 * 9 = 45  6 * 9 = 54  \n"
     ]
    }
   ],
   "source": [
    "# 구구단\n",
    "\n",
    "for j in range(1, 10):\n",
    "    for i in range (2, 7):\n",
    "        print ('%d * %d = %d' %(i, j, i*j), end= '  ')\n",
    "    print ()\n",
    "\n",
    "# 결과가 줄이 안 맞오"
   ]
  },
  {
   "cell_type": "code",
   "execution_count": 54,
   "metadata": {},
   "outputs": [
    {
     "name": "stdout",
     "output_type": "stream",
     "text": [
      "2 * 1 =  2  3 * 1 =  3  4 * 1 =  4  5 * 1 =  5  6 * 1 =  6  \n",
      "2 * 2 =  4  3 * 2 =  6  4 * 2 =  8  5 * 2 = 10  6 * 2 = 12  \n",
      "2 * 3 =  6  3 * 3 =  9  4 * 3 = 12  5 * 3 = 15  6 * 3 = 18  \n",
      "2 * 4 =  8  3 * 4 = 12  4 * 4 = 16  5 * 4 = 20  6 * 4 = 24  \n",
      "2 * 5 = 10  3 * 5 = 15  4 * 5 = 20  5 * 5 = 25  6 * 5 = 30  \n",
      "2 * 6 = 12  3 * 6 = 18  4 * 6 = 24  5 * 6 = 30  6 * 6 = 36  \n",
      "2 * 7 = 14  3 * 7 = 21  4 * 7 = 28  5 * 7 = 35  6 * 7 = 42  \n",
      "2 * 8 = 16  3 * 8 = 24  4 * 8 = 32  5 * 8 = 40  6 * 8 = 48  \n",
      "2 * 9 = 18  3 * 9 = 27  4 * 9 = 36  5 * 9 = 45  6 * 9 = 54  \n"
     ]
    }
   ],
   "source": [
    "# 구구단\n",
    "\n",
    "for j in range(1, 10):\n",
    "    for i in range (2, 7):\n",
    "        print ('%d * %d = %2d' %(i, j, i*j), end= '  ') # %2d = 두 자리수로 !!@!@!@!\n",
    "    print ()\n",
    "\n",
    "# 결과가 줄이 안 맞오"
   ]
  },
  {
   "cell_type": "code",
   "execution_count": 74,
   "metadata": {},
   "outputs": [
    {
     "name": "stdout",
     "output_type": "stream",
     "text": [
      "3.333333\n",
      "3.33\n",
      " 3.33\n",
      "3.000000\n"
     ]
    }
   ],
   "source": [
    "print ('%f' %(10/3))\n",
    "print ('%.2f' %(10/3)) # 세 자리수에서 반올림\n",
    "\n",
    "print ('%5.2f' %(10/3)) # 정렬\n",
    "\n",
    "print ('%f' %(9/3))\n"
   ]
  }
 ],
 "metadata": {
  "kernelspec": {
   "display_name": "Python 3",
   "language": "python",
   "name": "python3"
  },
  "language_info": {
   "codemirror_mode": {
    "name": "ipython",
    "version": 3
   },
   "file_extension": ".py",
   "mimetype": "text/x-python",
   "name": "python",
   "nbconvert_exporter": "python",
   "pygments_lexer": "ipython3",
   "version": "3.9.6"
  },
  "orig_nbformat": 4
 },
 "nbformat": 4,
 "nbformat_minor": 2
}
