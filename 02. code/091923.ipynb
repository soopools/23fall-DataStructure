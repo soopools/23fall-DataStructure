{
 "cells": [
  {
   "cell_type": "code",
   "execution_count": 8,
   "metadata": {},
   "outputs": [
    {
     "name": "stdout",
     "output_type": "stream",
     "text": [
      "5\n",
      "['A', 'B', 'E', 'D']\n",
      "[3, 5, 7, 9, 11]\n",
      "['A', 'B', 'E', 'D', 3, 5, 7, 9, 11]\n",
      "0\n",
      "1\n",
      "[3, 5, 'A', 7, 9, 11]\n",
      "E\n",
      "['A', 'B', 'D', 3, 5, 7, 9, 11]\n"
     ]
    }
   ],
   "source": [
    "# list\n",
    "L1 = [3, 5, 7, 9]\n",
    "L2 = ['A', 'B', 'C', 'D']\n",
    "\n",
    "# 인덱스 이용하여 접근 가능\n",
    "print (L1[1])\n",
    "\n",
    "L2[2] = 'E'\n",
    "print (L2)\n",
    "\n",
    "L1.append(11) # 주어진 값을 전체 리스트의 가장 마지막에 집어 넣기\n",
    "print (L1)\n",
    "\n",
    "L2.extend(L1) # 인자 값으로는 또 다른 리스트를 넣어주기\n",
    "print (L2)\n",
    "\n",
    "print (L2.count(13)) # 리스트 안에 인자 값 얼마나 있는지\n",
    "print (L2.count('A'))\n",
    "\n",
    "# 내장 함수 쓰면 안 되고 과정을 직접 쓰는 방식으로 시험 봐야 함 .... . ...... ㅎ  r\n",
    "\n",
    "L1.insert(2, 'A')\n",
    "print(L1)\n",
    "\n",
    "# >> python list는 서로 다른 타입의 변수도 리스트 안에 추가/삭제 가능\n",
    "\n",
    "print(L2.pop(2))\n",
    "print (L2)\n"
   ]
  },
  {
   "cell_type": "code",
   "execution_count": 13,
   "metadata": {},
   "outputs": [
    {
     "name": "stdout",
     "output_type": "stream",
     "text": [
      "{'apple': '사과', 'peach': '복숭아', 'banana': '바나나', 'ship': '배'}\n",
      "apple - 사과\n",
      "peach - 복숭아\n",
      "banana - 바나나\n",
      "ship - 배\n",
      "{'apple': '사과', 'peach': '복숭아', 'banana': '바나나', 'ship': '배', 'grape': '포도'}\n",
      "{'apple': '사과', 'peach': '복숭아', 'banana': '바나나', 'ship': '배', 'grape': '포도', 'orange': '오렌지', 'mandarin': '귤'}\n",
      "dict_keys(['apple', 'peach', 'banana', 'ship', 'grape', 'orange', 'mandarin'])\n",
      "dict_values(['사과', '복숭아', '바나나', '배', '포도', '오렌지', '귤'])\n"
     ]
    }
   ],
   "source": [
    "# dict\n",
    "map = {'apple':'사과', 'peach':'복숭아', 'banana':'바나나', 'ship':'배'}\n",
    "print(map)\n",
    "\n",
    "for e in map:\n",
    "    print(\"%s - %s\" %(e, map[e])) # 인덱스가 키로 들어감 map[e] 에서 e가 인덱스 !\n",
    "\n",
    "# adding the data on the map\n",
    "# 1)\n",
    "map['grape'] = '포도'\n",
    "print (map)\n",
    "# 2)\n",
    "map.update({'orange':'오렌지', 'mandarin':'귤'})\n",
    "print(map)\n",
    "\n",
    "# print only keys or values:\n",
    "print (map.keys())\n",
    "print (map.values())\n",
    "\n"
   ]
  },
  {
   "cell_type": "code",
   "execution_count": 15,
   "metadata": {},
   "outputs": [
    {
     "name": "stdout",
     "output_type": "stream",
     "text": [
      "min, max = (1, 9)\n"
     ]
    }
   ],
   "source": [
    "# min, max\n",
    "def find_min_max(A):\n",
    "    min = A[0]\n",
    "    max = A[0]\n",
    "    \n",
    "    for i in range(1, len(A)):\n",
    "        if min > A[i]: min = A[i] \n",
    "        if max < A[i]: max = A[i]\n",
    "\n",
    "    return (min, max)\n",
    "\n",
    "data = [5, 3, 8, 4, 9, 1, 6, 2, 7]\n",
    "(x, y) = find_min_max(data)\n",
    "print (\"min, max =\", (x, y))\n",
    "\n"
   ]
  },
  {
   "cell_type": "code",
   "execution_count": 21,
   "metadata": {},
   "outputs": [
    {
     "name": "stdout",
     "output_type": "stream",
     "text": [
      "Sum =  55\n",
      "Sum =  25\n",
      "Sum =  22\n"
     ]
    }
   ],
   "source": [
    "#sum\n",
    "\n",
    "def sum_range(begin, end, step = 1):\n",
    "    sum = 0\n",
    "    # for n in range(begin, end + 1, step):\n",
    "    for n in range(begin, end, step):\n",
    "        sum += n\n",
    "    return sum\n",
    "\n",
    "print('Sum = ', sum_range(1, 11)) # 1부터 10까지 정수의 합\n",
    "print('Sum = ', sum_range(1, 11, 2)) # 1부터 10까지 홀수의 합\n",
    "print('Sum = ', sum_range(step=3, begin=1, end=11)) # 1 4 7 10 의 합\n"
   ]
  },
  {
   "cell_type": "code",
   "execution_count": 31,
   "metadata": {},
   "outputs": [
    {
     "name": "stdout",
     "output_type": "stream",
     "text": [
      "Pi:  3.141592\n",
      "0\n"
     ]
    }
   ],
   "source": [
    "# var_scope\n",
    "\n",
    "pi = 3.141592 # 전역변수는 프로그래밍 어디에서든 사용 가능\n",
    "perimeter = 0\n",
    "\n",
    "def calc_perimeter(radius):\n",
    "    print(\"Pi: \", pi)\n",
    "    perimeter = 2 * pi * radius\n",
    "\n",
    "calc_perimeter(10)\n",
    "print(perimeter) # 파이썬의 경우에는, 전역변수가 함수 내 지역변수로도 작용해서 결과가 원주율이 아닌 0으로 나옴\n"
   ]
  },
  {
   "cell_type": "code",
   "execution_count": 33,
   "metadata": {},
   "outputs": [
    {
     "name": "stdout",
     "output_type": "stream",
     "text": [
      "Pi:  3.141592\n",
      "62.83184\n"
     ]
    }
   ],
   "source": [
    "# var_scope\n",
    "\n",
    "pi = 3.141592 # 전역변수는 프로그래밍 어디에서든 사용 가능\n",
    "perimeter = 0\n",
    "\n",
    "def calc_perimeter(radius):\n",
    "    global perimeter    # 전역 변수 값을 지역 변수 안에서 수정하려면 !!!!!global!!!!! 사용\n",
    "    print(\"Pi: \", pi)\n",
    "    perimeter = 2 * pi * radius\n",
    "\n",
    "calc_perimeter(10)\n",
    "print(perimeter)\n"
   ]
  }
 ],
 "metadata": {
  "kernelspec": {
   "display_name": "Python 3",
   "language": "python",
   "name": "python3"
  },
  "language_info": {
   "codemirror_mode": {
    "name": "ipython",
    "version": 3
   },
   "file_extension": ".py",
   "mimetype": "text/x-python",
   "name": "python",
   "nbconvert_exporter": "python",
   "pygments_lexer": "ipython3",
   "version": "3.9.6"
  },
  "orig_nbformat": 4
 },
 "nbformat": 4,
 "nbformat_minor": 2
}
